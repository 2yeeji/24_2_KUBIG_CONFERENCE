{
 "cells": [
  {
   "cell_type": "code",
   "execution_count": 1,
   "metadata": {},
   "outputs": [],
   "source": [
    "import pandas as pd\n",
    "\n",
    "wedding = pd.read_csv(\"웨딩전체_가공완료_정규화VER2.csv\")\n",
    "wedding2 = pd.read_csv(\"웨딩전체_가공완료 (1).csv\")"
   ]
  },
  {
   "cell_type": "code",
   "execution_count": 2,
   "metadata": {},
   "outputs": [],
   "source": [
    "df_merge = pd.merge(wedding, wedding2\n",
    "    , how = 'left'\n",
    "    , on = \"image_filename\")"
   ]
  },
  {
   "cell_type": "code",
   "execution_count": 8,
   "metadata": {},
   "outputs": [],
   "source": [
    "df_merge.to_csv(\"웨딩.csv\", index=False, encoding='utf-8-sig')"
   ]
  },
  {
   "cell_type": "code",
   "execution_count": 9,
   "metadata": {},
   "outputs": [],
   "source": [
    "daily = pd.read_excel(\"일상_결정.xlsx\")\n",
    "daily2 = pd.read_csv(\"일상전체_가공완료 (1).csv\")"
   ]
  },
  {
   "cell_type": "code",
   "execution_count": 10,
   "metadata": {},
   "outputs": [],
   "source": [
    "df_merge = pd.merge(daily, daily2\n",
    "    , how = 'left'\n",
    "    , on = \"image_filename\")"
   ]
  },
  {
   "cell_type": "code",
   "execution_count": 11,
   "metadata": {},
   "outputs": [],
   "source": [
    "df_merge.to_csv(\"일상.csv\", index=False, encoding='utf-8-sig')"
   ]
  },
  {
   "cell_type": "code",
   "execution_count": 12,
   "metadata": {},
   "outputs": [],
   "source": [
    "graduation = pd.read_excel(\"졸업_결정.xlsx\")\n",
    "graduation2 = pd.read_csv(\"졸업전체_가공완료 (1).csv\")"
   ]
  },
  {
   "cell_type": "code",
   "execution_count": 13,
   "metadata": {},
   "outputs": [],
   "source": [
    "df_merge = pd.merge(graduation, graduation2\n",
    "    , how = 'left'\n",
    "    , on = \"image_filename\")"
   ]
  },
  {
   "cell_type": "code",
   "execution_count": 14,
   "metadata": {},
   "outputs": [],
   "source": [
    "df_merge.to_csv(\"졸업.csv\", index=False, encoding='utf-8-sig')"
   ]
  },
  {
   "cell_type": "code",
   "execution_count": 1,
   "metadata": {},
   "outputs": [
    {
     "name": "stderr",
     "output_type": "stream",
     "text": [
      "c:\\Users\\dpwl1\\AppData\\Local\\Programs\\Python\\Python39\\lib\\site-packages\\sentence_transformers\\cross_encoder\\CrossEncoder.py:13: TqdmExperimentalWarning: Using `tqdm.autonotebook.tqdm` in notebook mode. Use `tqdm.tqdm` instead to force console mode (e.g. in jupyter console)\n",
      "  from tqdm.autonotebook import tqdm, trange\n",
      "You passed along `num_labels=3` with an incompatible id to label map: {'0': 'NEGATIVE', '1': 'POSITIVE'}. The number of labels wil be overwritten to 2.\n",
      "You passed along `num_labels=3` with an incompatible id to label map: {'0': 'NEGATIVE', '1': 'POSITIVE'}. The number of labels wil be overwritten to 2.\n"
     ]
    },
    {
     "name": "stdout",
     "output_type": "stream",
     "text": [
      "   filtered_image_filename       image_filename  \\\n",
      "6             oev.official  oev.official_01.png   \n",
      "24                poba_min      poba_min_01.png   \n",
      "7             oev.official  oev.official_02.png   \n",
      "\n",
      "                                recommendation_reason  게시물 수  팔로워수  팔로잉수  \n",
      "6   분위기를 기준으로 ' '감성적, 따뜻한, 로맨틱, 자연스러운'을 추천합니다. 이유를...    115  4.4만   321  \n",
      "24  분위기를 기준으로 ' '감성적, 따뜻한, 로맨틱, 자연스러운'을 추천합니다. 이유를...    635  3.7만   413  \n",
      "7   분위기를 기준으로 ' '감성적, 대비감, 따뜻한, 따뜻한, 로맨틱, 어두운, 어두운...    115  4.4만   321  \n"
     ]
    }
   ],
   "source": [
    "# 사용 예\n",
    "from wedding_sy_ver import WeddingRecommendationSystem\n",
    "\n",
    "system = WeddingRecommendationSystem()\n",
    "recommendations = system.get_recommendations(\n",
    "    text=\"로맨틱한 분위기의 웨딩 사진\",\n",
    "    options={\"색감_분위기_통합\": \"로맨틱\"},\n",
    "    top_k=3\n",
    ")\n",
    "print(recommendations)\n"
   ]
  },
  {
   "cell_type": "code",
   "execution_count": 2,
   "metadata": {},
   "outputs": [
    {
     "name": "stderr",
     "output_type": "stream",
     "text": [
      "You passed along `num_labels=3` with an incompatible id to label map: {'0': 'NEGATIVE', '1': 'POSITIVE'}. The number of labels wil be overwritten to 2.\n",
      "You passed along `num_labels=3` with an incompatible id to label map: {'0': 'NEGATIVE', '1': 'POSITIVE'}. The number of labels wil be overwritten to 2.\n",
      "Asking to truncate to max_length but no maximum length is provided and the model has no predefined maximum length. Default to no truncation.\n"
     ]
    },
    {
     "name": "stdout",
     "output_type": "stream",
     "text": [
      "   filtered_image_filename           image_filename  \\\n",
      "76              seoro.snap        seoro.snap_03.jpg   \n",
      "85        youandme_wedding  youandme_wedding_03.jpg   \n",
      "17               camengzzi         camengzzi_04.png   \n",
      "\n",
      "                                recommendation_reason  게시물 수  팔로워수  팔로잉수  \n",
      "76  분위기를 기준으로 '로맨틱, 부드러운, 자연적인, 평화로운'과 유사한 데이터를 추천...     62   665   406  \n",
      "85  색감과 분위기를 기준으로 '녹색, 로맨틱, 자연적인, 자유로운, 청명함, 청명함, ...    198  3753   617  \n",
      "17  분위기를 기준으로 '따뜻한, 로맨틱, 선명한, 자연적인'과 유사한 데이터를 추천합니...    528  2.6만   247  \n"
     ]
    }
   ],
   "source": [
    "# 사용 예제\n",
    "from wedding_other_ver import WeddingRecommender\n",
    "\n",
    "recommender = WeddingRecommender()\n",
    "recommendations = recommender.recommend(\n",
    "     text=\"따뜻한 분위기와 자연스러운 동작으로 촬영된 사진을 원합니다.\",\n",
    "     options={\"촬영 구도\": \"전신샷\", \"인물 수\": \"2명\"},\n",
    "     top_k=3\n",
    " )\n",
    "print(recommendations)"
   ]
  },
  {
   "cell_type": "code",
   "execution_count": null,
   "metadata": {},
   "outputs": [],
   "source": []
  }
 ],
 "metadata": {
  "kernelspec": {
   "display_name": "Python 3",
   "language": "python",
   "name": "python3"
  },
  "language_info": {
   "codemirror_mode": {
    "name": "ipython",
    "version": 3
   },
   "file_extension": ".py",
   "mimetype": "text/x-python",
   "name": "python",
   "nbconvert_exporter": "python",
   "pygments_lexer": "ipython3",
   "version": "3.9.13"
  }
 },
 "nbformat": 4,
 "nbformat_minor": 2
}
